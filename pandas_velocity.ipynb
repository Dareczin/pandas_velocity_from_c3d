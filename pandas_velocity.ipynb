{
 "cells": [
  {
   "cell_type": "code",
   "execution_count": 4,
   "metadata": {},
   "outputs": [
    {
     "name": "stdout",
     "output_type": "stream",
     "text": [
      "          RTOE_X      RTOE_Y     RTOE_Z  get_time_frames\n",
      "0    -235.466385 -284.629700  43.748245            0.000\n",
      "1    -235.467529 -284.625671  43.747372            0.004\n",
      "2    -235.468903 -284.620911  43.746777            0.008\n",
      "3    -235.470474 -284.615356  43.746460            0.012\n",
      "4    -235.472214 -284.609100  43.746403            0.016\n",
      "5    -235.474030 -284.602112  43.746582            0.020\n",
      "6    -235.475891 -284.594513  43.746964            0.024\n",
      "7    -235.477844 -284.586456  43.747520            0.028\n",
      "8    -235.479996 -284.578064  43.748207            0.032\n",
      "9    -235.482346 -284.569489  43.748978            0.036\n",
      "10   -235.484894 -284.560883  43.749771            0.040\n",
      "11   -235.487518 -284.552277  43.750542            0.044\n",
      "12   -235.490036 -284.543610  43.751289            0.048\n",
      "13   -235.492294 -284.534882  43.752048            0.052\n",
      "14   -235.494247 -284.525940  43.752899            0.056\n",
      "15   -235.496033 -284.516724  43.753956            0.060\n",
      "16   -235.497849 -284.507111  43.755337            0.064\n",
      "17   -235.499878 -284.497009  43.757137            0.068\n",
      "18   -235.502213 -284.486481  43.759403            0.072\n",
      "19   -235.504761 -284.475525  43.762089            0.076\n",
      "20   -235.507339 -284.464294  43.765099            0.080\n",
      "21   -235.509598 -284.452972  43.768272            0.084\n",
      "22   -235.511124 -284.441742  43.771458            0.088\n",
      "23   -235.511566 -284.430878  43.774525            0.092\n",
      "24   -235.510666 -284.420593  43.777359            0.096\n",
      "25   -235.508331 -284.411163  43.779873            0.100\n",
      "26   -235.504593 -284.402771  43.781986            0.104\n",
      "27   -235.499603 -284.395660  43.783627            0.108\n",
      "28   -235.493622 -284.389893  43.784718            0.112\n",
      "29   -235.486938 -284.385498  43.785152            0.116\n",
      "...          ...         ...        ...              ...\n",
      "3354 -239.573471 -299.054047  43.981915           13.416\n",
      "3355 -239.582184 -299.051025  43.971725           13.420\n",
      "3356 -239.591599 -299.050293  43.962147           13.424\n",
      "3357 -239.601639 -299.051483  43.953110           13.428\n",
      "3358 -239.612122 -299.054138  43.944542           13.432\n",
      "3359 -239.622681 -299.057587  43.936451           13.436\n",
      "3360 -239.632812 -299.061218  43.928905           13.440\n",
      "3361 -239.641968 -299.064545  43.922089           13.444\n",
      "3362 -239.649612 -299.067291  43.916206           13.448\n",
      "3363 -239.655350 -299.069489  43.911442           13.452\n",
      "3364 -239.659012 -299.071320  43.907906           13.456\n",
      "3365 -239.660645 -299.073059  43.905632           13.460\n",
      "3366 -239.660461 -299.075256  43.904613           13.464\n",
      "3367 -239.658875 -299.078369  43.904835           13.468\n",
      "3368 -239.656311 -299.082733  43.906216           13.472\n",
      "3369 -239.653183 -299.088470  43.908607           13.476\n",
      "3370 -239.649841 -299.095551  43.911808           13.480\n",
      "3371 -239.646515 -299.103760  43.915634           13.484\n",
      "3372 -239.643356 -299.112823  43.919975           13.488\n",
      "3373 -239.640381 -299.122498  43.924767           13.492\n",
      "3374 -239.637589 -299.132416  43.929901           13.496\n",
      "3375 -239.634964 -299.142395  43.935261           13.500\n",
      "3376 -239.632584 -299.152405  43.940697           13.504\n",
      "3377 -239.630493 -299.162506  43.946152           13.508\n",
      "3378 -239.628815 -299.172943  43.951721           13.512\n",
      "3379 -239.627563 -299.183990  43.957649           13.516\n",
      "3380 -239.626770 -299.195862  43.964203           13.520\n",
      "3381 -239.626450 -299.208801  43.971577           13.524\n",
      "3382 -239.626602 -299.222900  43.979885           13.528\n",
      "3383 -239.627258 -299.238281  43.989182           13.532\n",
      "\n",
      "[3384 rows x 4 columns]\n"
     ]
    }
   ],
   "source": [
    "import pandas as pd\n",
    "\n",
    "import numpy as np\n",
    "import matplotlib.pyplot as plt\n",
    "from scipy.signal import find_peaks\n",
    "import pyomeca\n",
    "\n",
    "markers = [\"RTOE\"]\n",
    "m = (\n",
    "pyomeca.Markers3d.from_c3d( \"B0264_dollyo_air_P_T01.c3d\", names=markers)\n",
    ".to_dataframe(add_metadata=[\"get_time_frames\"])\n",
    ")\n",
    "\n",
    "print(m)\n"
   ]
  },
  {
   "cell_type": "code",
   "execution_count": 41,
   "metadata": {},
   "outputs": [
    {
     "data": {
      "image/png": "[encoded data removed]",
      "text/plain": [
       "<Figure size 432x288 with 1 Axes>"
      ]
     },
     "metadata": {
      "needs_background": "light"
     },
     "output_type": "display_data"
    }
   ],
   "source": [
    "df = m.round(decimals = 3)\n",
    "df1 = df.diff()\n",
    "dfx = (df1['RTOE_X'] /1000) / df1['get_time_frames']\n",
    "dfy = (df1['RTOE_Y'] /1000) / df1['get_time_frames']\n",
    "dfz = (df1['RTOE_Z'] /1000) / df1['get_time_frames']\n",
    "dfx1 = dfx[1:-1]**2\n",
    "dfy1 = dfy[1:-1]**2\n",
    "dfz1 = dfz[1:-1]**2\n",
    "v = (dfx1 + dfy1 + dfz1)**1/2\n",
    "peaks, _ = find_peaks(v, height=6)\n",
    "plt.plot(v)\n",
    "plt.plot(peaks, v[peaks], \"x\")\n",
    "plt.show()"
   ]
  },
  {
   "cell_type": "code",
   "execution_count": null,
   "metadata": {},
   "outputs": [],
   "source": [
    "\n"
   ]
  },
  {
   "cell_type": "code",
   "execution_count": null,
   "metadata": {},
   "outputs": [],
   "source": []
  },
  {
   "cell_type": "code",
   "execution_count": null,
   "metadata": {},
   "outputs": [],
   "source": []
  },
  {
   "cell_type": "code",
   "execution_count": null,
   "metadata": {},
   "outputs": [],
   "source": []
  }
 ],
 "metadata": {
  "kernelspec": {
   "display_name": "Python 3",
   "language": "python",
   "name": "python3"
  },
  "language_info": {
   "codemirror_mode": {
    "name": "ipython",
    "version": 3
   },
   "file_extension": ".py",
   "mimetype": "text/x-python",
   "name": "python",
   "nbconvert_exporter": "python",
   "pygments_lexer": "ipython3",
   "version": "3.7.3"
  }
 },
 "nbformat": 4,
 "nbformat_minor": 2
}
